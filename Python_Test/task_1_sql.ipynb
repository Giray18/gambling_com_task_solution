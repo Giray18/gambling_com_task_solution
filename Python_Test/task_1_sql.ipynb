{
 "cells": [
  {
   "cell_type": "markdown",
   "metadata": {},
   "source": [
    "## Importing needed modules into notebook session"
   ]
  },
  {
   "cell_type": "code",
   "execution_count": 1,
   "metadata": {},
   "outputs": [],
   "source": [
    "import sys\n",
    "import os\n",
    "sys.path.insert(0, 'C:/Users/Lenovo/Desktop/gambling/gambling_com_task_solution/src') \n",
    "import data_profiler\n",
    "import pandas as pd\n",
    "from data_profiler import snowflake_analysis_class\n",
    "from environs import Env\n",
    "import datetime"
   ]
  },
  {
   "cell_type": "markdown",
   "metadata": {},
   "source": [
    "## Data profiling of provided dataset"
   ]
  },
  {
   "cell_type": "code",
   "execution_count": 2,
   "metadata": {},
   "outputs": [],
   "source": [
    "dataset_processing = data_profiler.PandasAnalysisClass('C:/Users/Lenovo/Desktop/gambling/gambling_com_task_solution/Python_Test/Fixtures.csv')"
   ]
  },
  {
   "cell_type": "code",
   "execution_count": 3,
   "metadata": {},
   "outputs": [
    {
     "data": {
      "text/plain": [
       "'data_profiling_results_saved_into_output_location'"
      ]
     },
     "execution_count": 3,
     "metadata": {},
     "output_type": "execute_result"
    }
   ],
   "source": [
    "dataset_processing.pandas_data_profiler('C:/Users/Lenovo/Desktop/gambling/gambling_com_task_solution/Python_Test')"
   ]
  },
  {
   "cell_type": "markdown",
   "metadata": {},
   "source": [
    "### Checking data quality before manipulation process"
   ]
  },
  {
   "cell_type": "code",
   "execution_count": 5,
   "metadata": {},
   "outputs": [
    {
     "data": {
      "text/plain": [
       "'C:\\\\Users\\\\Lenovo\\\\Desktop\\\\gambling\\\\gambling_com_task_solution\\\\Python_Test\\\\2024-10-23_profiled_dataframe'"
      ]
     },
     "execution_count": 5,
     "metadata": {},
     "output_type": "execute_result"
    }
   ],
   "source": [
    "os.getcwd()"
   ]
  },
  {
   "cell_type": "code",
   "execution_count": 6,
   "metadata": {},
   "outputs": [
    {
     "ename": "NameError",
     "evalue": "name 'datetime' is not defined",
     "output_type": "error",
     "traceback": [
      "\u001b[1;31m---------------------------------------------------------------------------\u001b[0m",
      "\u001b[1;31mNameError\u001b[0m                                 Traceback (most recent call last)",
      "Cell \u001b[1;32mIn[6], line 1\u001b[0m\n\u001b[1;32m----> 1\u001b[0m pd\u001b[38;5;241m.\u001b[39mread_excel(os\u001b[38;5;241m.\u001b[39mgetcwd()\u001b[38;5;241m+\u001b[39m\u001b[38;5;124mf\u001b[39m\u001b[38;5;124m'\u001b[39m\u001b[38;5;124mprofiled_dataframe_\u001b[39m\u001b[38;5;132;01m{\u001b[39;00m\u001b[43mdatetime\u001b[49m\u001b[38;5;241m.\u001b[39mdate\u001b[38;5;241m.\u001b[39mtoday()\u001b[38;5;132;01m}\u001b[39;00m\u001b[38;5;124m'\u001b[39m)\n",
      "\u001b[1;31mNameError\u001b[0m: name 'datetime' is not defined"
     ]
    }
   ],
   "source": [
    "\n",
    "pd.read_excel(os.getcwd()+f'profiled_dataframe_{datetime.date.today()}')"
   ]
  },
  {
   "cell_type": "markdown",
   "metadata": {},
   "source": [
    "## Part 1"
   ]
  },
  {
   "cell_type": "markdown",
   "metadata": {},
   "source": [
    "### Load \"Fixtures.csv\" into Pandas Dataframe"
   ]
  },
  {
   "cell_type": "code",
   "execution_count": 5,
   "metadata": {},
   "outputs": [
    {
     "data": {
      "text/html": [
       "<div>\n",
       "<style scoped>\n",
       "    .dataframe tbody tr th:only-of-type {\n",
       "        vertical-align: middle;\n",
       "    }\n",
       "\n",
       "    .dataframe tbody tr th {\n",
       "        vertical-align: top;\n",
       "    }\n",
       "\n",
       "    .dataframe thead th {\n",
       "        text-align: right;\n",
       "    }\n",
       "</style>\n",
       "<table border=\"1\" class=\"dataframe\">\n",
       "  <thead>\n",
       "    <tr style=\"text-align: right;\">\n",
       "      <th></th>\n",
       "      <th>Date</th>\n",
       "      <th>HomeTeam</th>\n",
       "      <th>AwayTeam</th>\n",
       "      <th>HomeTeamGoals</th>\n",
       "      <th>AwayTeamScores</th>\n",
       "    </tr>\n",
       "  </thead>\n",
       "  <tbody>\n",
       "    <tr>\n",
       "      <th>0</th>\n",
       "      <td>12/09/2020</td>\n",
       "      <td>Crystal Palace</td>\n",
       "      <td>Southampton</td>\n",
       "      <td>1</td>\n",
       "      <td>0</td>\n",
       "    </tr>\n",
       "    <tr>\n",
       "      <th>1</th>\n",
       "      <td>12/09/2020</td>\n",
       "      <td>Fulham</td>\n",
       "      <td>Arsenal</td>\n",
       "      <td>0</td>\n",
       "      <td>3</td>\n",
       "    </tr>\n",
       "    <tr>\n",
       "      <th>2</th>\n",
       "      <td>12/09/2020</td>\n",
       "      <td>Liverpool</td>\n",
       "      <td>Leeds</td>\n",
       "      <td>4</td>\n",
       "      <td>3</td>\n",
       "    </tr>\n",
       "    <tr>\n",
       "      <th>3</th>\n",
       "      <td>12/09/2020</td>\n",
       "      <td>West Ham</td>\n",
       "      <td>Newcastle</td>\n",
       "      <td>0</td>\n",
       "      <td>2</td>\n",
       "    </tr>\n",
       "    <tr>\n",
       "      <th>4</th>\n",
       "      <td>13/09/2020</td>\n",
       "      <td>Tottenham</td>\n",
       "      <td>Everton</td>\n",
       "      <td>0</td>\n",
       "      <td>1</td>\n",
       "    </tr>\n",
       "    <tr>\n",
       "      <th>...</th>\n",
       "      <td>...</td>\n",
       "      <td>...</td>\n",
       "      <td>...</td>\n",
       "      <td>...</td>\n",
       "      <td>...</td>\n",
       "    </tr>\n",
       "    <tr>\n",
       "      <th>375</th>\n",
       "      <td>23/05/2021</td>\n",
       "      <td>Liverpool</td>\n",
       "      <td>Crystal Palace</td>\n",
       "      <td>2</td>\n",
       "      <td>0</td>\n",
       "    </tr>\n",
       "    <tr>\n",
       "      <th>376</th>\n",
       "      <td>23/05/2021</td>\n",
       "      <td>Man City</td>\n",
       "      <td>Everton</td>\n",
       "      <td>5</td>\n",
       "      <td>0</td>\n",
       "    </tr>\n",
       "    <tr>\n",
       "      <th>377</th>\n",
       "      <td>23/05/2021</td>\n",
       "      <td>Sheffield United</td>\n",
       "      <td>Burnley</td>\n",
       "      <td>1</td>\n",
       "      <td>0</td>\n",
       "    </tr>\n",
       "    <tr>\n",
       "      <th>378</th>\n",
       "      <td>23/05/2021</td>\n",
       "      <td>West Ham</td>\n",
       "      <td>Southampton</td>\n",
       "      <td>3</td>\n",
       "      <td>0</td>\n",
       "    </tr>\n",
       "    <tr>\n",
       "      <th>379</th>\n",
       "      <td>23/05/2021</td>\n",
       "      <td>Wolves</td>\n",
       "      <td>Man United</td>\n",
       "      <td>1</td>\n",
       "      <td>2</td>\n",
       "    </tr>\n",
       "  </tbody>\n",
       "</table>\n",
       "<p>380 rows × 5 columns</p>\n",
       "</div>"
      ],
      "text/plain": [
       "           Date          HomeTeam        AwayTeam  HomeTeamGoals  \\\n",
       "0    12/09/2020    Crystal Palace     Southampton              1   \n",
       "1    12/09/2020            Fulham         Arsenal              0   \n",
       "2    12/09/2020         Liverpool           Leeds              4   \n",
       "3    12/09/2020          West Ham       Newcastle              0   \n",
       "4    13/09/2020         Tottenham         Everton              0   \n",
       "..          ...               ...             ...            ...   \n",
       "375  23/05/2021         Liverpool  Crystal Palace              2   \n",
       "376  23/05/2021          Man City         Everton              5   \n",
       "377  23/05/2021  Sheffield United         Burnley              1   \n",
       "378  23/05/2021          West Ham     Southampton              3   \n",
       "379  23/05/2021            Wolves      Man United              1   \n",
       "\n",
       "     AwayTeamScores  \n",
       "0                 0  \n",
       "1                 3  \n",
       "2                 3  \n",
       "3                 2  \n",
       "4                 1  \n",
       "..              ...  \n",
       "375               0  \n",
       "376               0  \n",
       "377               0  \n",
       "378               0  \n",
       "379               2  \n",
       "\n",
       "[380 rows x 5 columns]"
      ]
     },
     "execution_count": 5,
     "metadata": {},
     "output_type": "execute_result"
    }
   ],
   "source": [
    "dataset_processing.read_dataframe()"
   ]
  },
  {
   "cell_type": "markdown",
   "metadata": {},
   "source": [
    "## Part 2"
   ]
  },
  {
   "cell_type": "markdown",
   "metadata": {},
   "source": [
    "### Running method from created class to apply below requests,\n",
    "\n",
    "-\tRemoves all rows where the fixture contains 'Man City'.\n",
    "\n",
    "-\tUpdates all cells where 'Brighton' occurs to 'Brighton & Hove Albion'.\n",
    "\n",
    "-\tReturns a DataFrame that shows the standings for a given date.\n",
    "Each team gets 3 points for a win, 1 for a draw and 0 for a loss.\n"
   ]
  },
  {
   "cell_type": "code",
   "execution_count": 6,
   "metadata": {},
   "outputs": [
    {
     "data": {
      "text/html": [
       "<div>\n",
       "<style scoped>\n",
       "    .dataframe tbody tr th:only-of-type {\n",
       "        vertical-align: middle;\n",
       "    }\n",
       "\n",
       "    .dataframe tbody tr th {\n",
       "        vertical-align: top;\n",
       "    }\n",
       "\n",
       "    .dataframe thead tr th {\n",
       "        text-align: left;\n",
       "    }\n",
       "\n",
       "    .dataframe thead tr:last-of-type th {\n",
       "        text-align: right;\n",
       "    }\n",
       "</style>\n",
       "<table border=\"1\" class=\"dataframe\">\n",
       "  <thead>\n",
       "    <tr>\n",
       "      <th></th>\n",
       "      <th>POSITION</th>\n",
       "      <th>CLUB</th>\n",
       "      <th>MATCHES_PLAYED</th>\n",
       "      <th>WIN</th>\n",
       "      <th>DRAW</th>\n",
       "      <th>LOSS</th>\n",
       "      <th>GOALS_FOR</th>\n",
       "      <th>GOALS_AGAINST</th>\n",
       "      <th>GOAL_DIFFERENCE</th>\n",
       "      <th>POINTS</th>\n",
       "    </tr>\n",
       "    <tr>\n",
       "      <th></th>\n",
       "      <th></th>\n",
       "      <th></th>\n",
       "      <th></th>\n",
       "      <th></th>\n",
       "      <th></th>\n",
       "      <th></th>\n",
       "      <th></th>\n",
       "      <th></th>\n",
       "      <th></th>\n",
       "      <th></th>\n",
       "    </tr>\n",
       "    <tr>\n",
       "      <th>CLUB</th>\n",
       "      <th></th>\n",
       "      <th></th>\n",
       "      <th></th>\n",
       "      <th></th>\n",
       "      <th></th>\n",
       "      <th></th>\n",
       "      <th></th>\n",
       "      <th></th>\n",
       "      <th></th>\n",
       "      <th></th>\n",
       "    </tr>\n",
       "  </thead>\n",
       "  <tbody>\n",
       "    <tr>\n",
       "      <th>Man United</th>\n",
       "      <td>1</td>\n",
       "      <td>Man United</td>\n",
       "      <td>36</td>\n",
       "      <td>20</td>\n",
       "      <td>10</td>\n",
       "      <td>6</td>\n",
       "      <td>71</td>\n",
       "      <td>44</td>\n",
       "      <td>27</td>\n",
       "      <td>70</td>\n",
       "    </tr>\n",
       "    <tr>\n",
       "      <th>Liverpool</th>\n",
       "      <td>2</td>\n",
       "      <td>Liverpool</td>\n",
       "      <td>36</td>\n",
       "      <td>20</td>\n",
       "      <td>8</td>\n",
       "      <td>8</td>\n",
       "      <td>66</td>\n",
       "      <td>37</td>\n",
       "      <td>29</td>\n",
       "      <td>68</td>\n",
       "    </tr>\n",
       "    <tr>\n",
       "      <th>West Ham</th>\n",
       "      <td>4</td>\n",
       "      <td>West Ham</td>\n",
       "      <td>36</td>\n",
       "      <td>19</td>\n",
       "      <td>7</td>\n",
       "      <td>10</td>\n",
       "      <td>60</td>\n",
       "      <td>44</td>\n",
       "      <td>16</td>\n",
       "      <td>64</td>\n",
       "    </tr>\n",
       "    <tr>\n",
       "      <th>Chelsea</th>\n",
       "      <td>4</td>\n",
       "      <td>Chelsea</td>\n",
       "      <td>36</td>\n",
       "      <td>18</td>\n",
       "      <td>10</td>\n",
       "      <td>8</td>\n",
       "      <td>55</td>\n",
       "      <td>32</td>\n",
       "      <td>23</td>\n",
       "      <td>64</td>\n",
       "    </tr>\n",
       "    <tr>\n",
       "      <th>Leicester</th>\n",
       "      <td>5</td>\n",
       "      <td>Leicester</td>\n",
       "      <td>36</td>\n",
       "      <td>19</td>\n",
       "      <td>6</td>\n",
       "      <td>11</td>\n",
       "      <td>63</td>\n",
       "      <td>46</td>\n",
       "      <td>17</td>\n",
       "      <td>63</td>\n",
       "    </tr>\n",
       "    <tr>\n",
       "      <th>Arsenal</th>\n",
       "      <td>6</td>\n",
       "      <td>Arsenal</td>\n",
       "      <td>36</td>\n",
       "      <td>18</td>\n",
       "      <td>7</td>\n",
       "      <td>11</td>\n",
       "      <td>55</td>\n",
       "      <td>37</td>\n",
       "      <td>18</td>\n",
       "      <td>61</td>\n",
       "    </tr>\n",
       "    <tr>\n",
       "      <th>Everton</th>\n",
       "      <td>8</td>\n",
       "      <td>Everton</td>\n",
       "      <td>36</td>\n",
       "      <td>17</td>\n",
       "      <td>8</td>\n",
       "      <td>11</td>\n",
       "      <td>46</td>\n",
       "      <td>40</td>\n",
       "      <td>6</td>\n",
       "      <td>59</td>\n",
       "    </tr>\n",
       "    <tr>\n",
       "      <th>Tottenham</th>\n",
       "      <td>8</td>\n",
       "      <td>Tottenham</td>\n",
       "      <td>36</td>\n",
       "      <td>17</td>\n",
       "      <td>8</td>\n",
       "      <td>11</td>\n",
       "      <td>66</td>\n",
       "      <td>42</td>\n",
       "      <td>24</td>\n",
       "      <td>59</td>\n",
       "    </tr>\n",
       "    <tr>\n",
       "      <th>Leeds</th>\n",
       "      <td>10</td>\n",
       "      <td>Leeds</td>\n",
       "      <td>36</td>\n",
       "      <td>17</td>\n",
       "      <td>4</td>\n",
       "      <td>15</td>\n",
       "      <td>59</td>\n",
       "      <td>52</td>\n",
       "      <td>7</td>\n",
       "      <td>55</td>\n",
       "    </tr>\n",
       "    <tr>\n",
       "      <th>Aston Villa</th>\n",
       "      <td>10</td>\n",
       "      <td>Aston Villa</td>\n",
       "      <td>36</td>\n",
       "      <td>16</td>\n",
       "      <td>7</td>\n",
       "      <td>13</td>\n",
       "      <td>54</td>\n",
       "      <td>42</td>\n",
       "      <td>12</td>\n",
       "      <td>55</td>\n",
       "    </tr>\n",
       "    <tr>\n",
       "      <th>Newcastle</th>\n",
       "      <td>12</td>\n",
       "      <td>Newcastle</td>\n",
       "      <td>36</td>\n",
       "      <td>12</td>\n",
       "      <td>9</td>\n",
       "      <td>15</td>\n",
       "      <td>43</td>\n",
       "      <td>56</td>\n",
       "      <td>-13</td>\n",
       "      <td>45</td>\n",
       "    </tr>\n",
       "    <tr>\n",
       "      <th>Wolves</th>\n",
       "      <td>12</td>\n",
       "      <td>Wolves</td>\n",
       "      <td>36</td>\n",
       "      <td>12</td>\n",
       "      <td>9</td>\n",
       "      <td>15</td>\n",
       "      <td>34</td>\n",
       "      <td>45</td>\n",
       "      <td>-11</td>\n",
       "      <td>45</td>\n",
       "    </tr>\n",
       "    <tr>\n",
       "      <th>Crystal Palace</th>\n",
       "      <td>13</td>\n",
       "      <td>Crystal Palace</td>\n",
       "      <td>36</td>\n",
       "      <td>12</td>\n",
       "      <td>8</td>\n",
       "      <td>16</td>\n",
       "      <td>41</td>\n",
       "      <td>60</td>\n",
       "      <td>-19</td>\n",
       "      <td>44</td>\n",
       "    </tr>\n",
       "    <tr>\n",
       "      <th>Southampton</th>\n",
       "      <td>14</td>\n",
       "      <td>Southampton</td>\n",
       "      <td>36</td>\n",
       "      <td>12</td>\n",
       "      <td>7</td>\n",
       "      <td>17</td>\n",
       "      <td>45</td>\n",
       "      <td>62</td>\n",
       "      <td>-17</td>\n",
       "      <td>43</td>\n",
       "    </tr>\n",
       "    <tr>\n",
       "      <th>Burnley</th>\n",
       "      <td>15</td>\n",
       "      <td>Burnley</td>\n",
       "      <td>36</td>\n",
       "      <td>10</td>\n",
       "      <td>9</td>\n",
       "      <td>17</td>\n",
       "      <td>33</td>\n",
       "      <td>48</td>\n",
       "      <td>-15</td>\n",
       "      <td>39</td>\n",
       "    </tr>\n",
       "    <tr>\n",
       "      <th>Brighton &amp; Hove Albion</th>\n",
       "      <td>16</td>\n",
       "      <td>Brighton &amp; Hove Albion</td>\n",
       "      <td>36</td>\n",
       "      <td>8</td>\n",
       "      <td>14</td>\n",
       "      <td>14</td>\n",
       "      <td>37</td>\n",
       "      <td>43</td>\n",
       "      <td>-6</td>\n",
       "      <td>38</td>\n",
       "    </tr>\n",
       "    <tr>\n",
       "      <th>Fulham</th>\n",
       "      <td>17</td>\n",
       "      <td>Fulham</td>\n",
       "      <td>36</td>\n",
       "      <td>5</td>\n",
       "      <td>13</td>\n",
       "      <td>18</td>\n",
       "      <td>27</td>\n",
       "      <td>48</td>\n",
       "      <td>-21</td>\n",
       "      <td>28</td>\n",
       "    </tr>\n",
       "    <tr>\n",
       "      <th>West Brom</th>\n",
       "      <td>18</td>\n",
       "      <td>West Brom</td>\n",
       "      <td>36</td>\n",
       "      <td>5</td>\n",
       "      <td>10</td>\n",
       "      <td>21</td>\n",
       "      <td>34</td>\n",
       "      <td>70</td>\n",
       "      <td>-36</td>\n",
       "      <td>25</td>\n",
       "    </tr>\n",
       "    <tr>\n",
       "      <th>Sheffield United</th>\n",
       "      <td>19</td>\n",
       "      <td>Sheffield United</td>\n",
       "      <td>36</td>\n",
       "      <td>7</td>\n",
       "      <td>2</td>\n",
       "      <td>27</td>\n",
       "      <td>20</td>\n",
       "      <td>61</td>\n",
       "      <td>-41</td>\n",
       "      <td>23</td>\n",
       "    </tr>\n",
       "  </tbody>\n",
       "</table>\n",
       "</div>"
      ],
      "text/plain": [
       "                       POSITION                    CLUB MATCHES_PLAYED WIN  \\\n",
       "                                                                             \n",
       "CLUB                                                                         \n",
       "Man United                    1              Man United             36  20   \n",
       "Liverpool                     2               Liverpool             36  20   \n",
       "West Ham                      4                West Ham             36  19   \n",
       "Chelsea                       4                 Chelsea             36  18   \n",
       "Leicester                     5               Leicester             36  19   \n",
       "Arsenal                       6                 Arsenal             36  18   \n",
       "Everton                       8                 Everton             36  17   \n",
       "Tottenham                     8               Tottenham             36  17   \n",
       "Leeds                        10                   Leeds             36  17   \n",
       "Aston Villa                  10             Aston Villa             36  16   \n",
       "Newcastle                    12               Newcastle             36  12   \n",
       "Wolves                       12                  Wolves             36  12   \n",
       "Crystal Palace               13          Crystal Palace             36  12   \n",
       "Southampton                  14             Southampton             36  12   \n",
       "Burnley                      15                 Burnley             36  10   \n",
       "Brighton & Hove Albion       16  Brighton & Hove Albion             36   8   \n",
       "Fulham                       17                  Fulham             36   5   \n",
       "West Brom                    18               West Brom             36   5   \n",
       "Sheffield United             19        Sheffield United             36   7   \n",
       "\n",
       "                       DRAW LOSS GOALS_FOR GOALS_AGAINST GOAL_DIFFERENCE  \\\n",
       "                                                                           \n",
       "CLUB                                                                       \n",
       "Man United               10    6        71            44              27   \n",
       "Liverpool                 8    8        66            37              29   \n",
       "West Ham                  7   10        60            44              16   \n",
       "Chelsea                  10    8        55            32              23   \n",
       "Leicester                 6   11        63            46              17   \n",
       "Arsenal                   7   11        55            37              18   \n",
       "Everton                   8   11        46            40               6   \n",
       "Tottenham                 8   11        66            42              24   \n",
       "Leeds                     4   15        59            52               7   \n",
       "Aston Villa               7   13        54            42              12   \n",
       "Newcastle                 9   15        43            56             -13   \n",
       "Wolves                    9   15        34            45             -11   \n",
       "Crystal Palace            8   16        41            60             -19   \n",
       "Southampton               7   17        45            62             -17   \n",
       "Burnley                   9   17        33            48             -15   \n",
       "Brighton & Hove Albion   14   14        37            43              -6   \n",
       "Fulham                   13   18        27            48             -21   \n",
       "West Brom                10   21        34            70             -36   \n",
       "Sheffield United          2   27        20            61             -41   \n",
       "\n",
       "                       POINTS  \n",
       "                               \n",
       "CLUB                           \n",
       "Man United                 70  \n",
       "Liverpool                  68  \n",
       "West Ham                   64  \n",
       "Chelsea                    64  \n",
       "Leicester                  63  \n",
       "Arsenal                    61  \n",
       "Everton                    59  \n",
       "Tottenham                  59  \n",
       "Leeds                      55  \n",
       "Aston Villa                55  \n",
       "Newcastle                  45  \n",
       "Wolves                     45  \n",
       "Crystal Palace             44  \n",
       "Southampton                43  \n",
       "Burnley                    39  \n",
       "Brighton & Hove Albion     38  \n",
       "Fulham                     28  \n",
       "West Brom                  25  \n",
       "Sheffield United           23  "
      ]
     },
     "execution_count": 6,
     "metadata": {},
     "output_type": "execute_result"
    }
   ],
   "source": [
    "dataset_processing.data_manipulator('Man City', {'Brighton' : 'Brighton & Hove Albion'})"
   ]
  },
  {
   "cell_type": "markdown",
   "metadata": {},
   "source": [
    "## Part 3"
   ]
  },
  {
   "cell_type": "markdown",
   "metadata": {},
   "source": [
    "### Using the function you created in Part 2, call the function to return the standings as at 25th December 2020 and export this DataFrame to a CSV file"
   ]
  },
  {
   "cell_type": "code",
   "execution_count": 7,
   "metadata": {},
   "outputs": [
    {
     "data": {
      "text/plain": [
       "'dataframe saved to working directory'"
      ]
     },
     "execution_count": 7,
     "metadata": {},
     "output_type": "execute_result"
    }
   ],
   "source": [
    "dataset_processing.data_manipulator = dataset_processing.data_manipulator_date_filter(dataset_processing.data_manipulator)\n",
    "dataset_processing.data_manipulator('Man City', {'Brighton' : 'Brighton & Hove Albion'},'25/12/2020')\n"
   ]
  },
  {
   "cell_type": "markdown",
   "metadata": {},
   "source": [
    "## Part 4"
   ]
  },
  {
   "cell_type": "markdown",
   "metadata": {},
   "source": [
    "### DELETE on the STANDINGS table to clear out any existing data and using the function you created in Part 2, write the Standings as at the end of the season to this table in Snowflake."
   ]
  },
  {
   "cell_type": "code",
   "execution_count": 8,
   "metadata": {},
   "outputs": [
    {
     "data": {
      "text/plain": [
       "True"
      ]
     },
     "execution_count": 8,
     "metadata": {},
     "output_type": "execute_result"
    }
   ],
   "source": [
    "env = Env()\n",
    "env.read_env('C:/Users/Lenovo/Desktop/gambling/gambling_com_task_solution/Python_Test/.env') "
   ]
  },
  {
   "cell_type": "code",
   "execution_count": 9,
   "metadata": {},
   "outputs": [],
   "source": [
    "snowflake_processing = snowflake_analysis_class(os.getenv(\"SNOWFLAKE_USERNAME\"),\n",
    "                                                os.getenv(\"SNOWFLAKE_PASSWORD\"),\n",
    "                                                os.getenv(\"SNOWFLAKE_ACCOUNT\"),\n",
    "                                                \"DEVELOPER_SANDBOX\",\n",
    "                                                'TECH_TEST')"
   ]
  },
  {
   "cell_type": "code",
   "execution_count": 10,
   "metadata": {},
   "outputs": [
    {
     "name": "stderr",
     "output_type": "stream",
     "text": [
      "c:\\Users\\Lenovo\\Desktop\\gambling\\gambling_com_task_solution\\Lib\\site-packages\\snowflake\\connector\\config_manager.py:351: UserWarning: Bad owner or permissions on C:\\Users\\Lenovo\\.snowflake\\connections.toml\n",
      "  warn(f\"Bad owner or permissions on {str(filep)}{chmod_message}\")\n",
      "C:\\Users/Lenovo/Desktop/gambling/gambling_com_task_solution/src\\data_profiler\\pandas_analysis_class.py:163: UserWarning: pandas only supports SQLAlchemy connectable (engine/connection) or database string URI or sqlite3 DBAPI2 connection. Other DBAPI2 objects are not tested. Please consider using SQLAlchemy.\n",
      "  df_source = pd.read_sql(f'SELECT * FROM {table_to_drop}', con = ctx)\n",
      "C:\\Users/Lenovo/Desktop/gambling/gambling_com_task_solution/src\\data_profiler\\pandas_analysis_class.py:168: UserWarning: Pandas Dataframe has non-standard index of type <class 'pandas.core.indexes.base.Index'> which will not be written. Consider changing the index to pd.RangeIndex(start=0,...,step=1) or call reset_index() to keep index as column(s)\n",
      "  success, nchunks, nrows, _ = write_pandas(ctx, df_to_write,  table_to_drop ,index = False)\n"
     ]
    },
    {
     "name": "stdout",
     "output_type": "stream",
     "text": [
      "The error is: columns names are not matching with target table on snowflake 000904 (42000): SQL compilation error: error line 1 at position 87\n",
      "invalid identifier '\"('POSITION', '')\"'\n"
     ]
    },
    {
     "name": "stderr",
     "output_type": "stream",
     "text": [
      "C:\\Users/Lenovo/Desktop/gambling/gambling_com_task_solution/src\\data_profiler\\pandas_analysis_class.py:172: UserWarning: Pandas Dataframe has non-standard index of type <class 'pandas.core.indexes.base.Index'> which will not be written. Consider changing the index to pd.RangeIndex(start=0,...,step=1) or call reset_index() to keep index as column(s)\n",
      "  success, nchunks, nrows, _ = write_pandas(ctx, df_to_write,  table_to_drop ,index = False)\n",
      "C:\\Users/Lenovo/Desktop/gambling/gambling_com_task_solution/src\\data_profiler\\pandas_analysis_class.py:173: UserWarning: pandas only supports SQLAlchemy connectable (engine/connection) or database string URI or sqlite3 DBAPI2 connection. Other DBAPI2 objects are not tested. Please consider using SQLAlchemy.\n",
      "  df_source = pd.read_sql(f'SELECT * FROM {table_to_drop}', con = ctx)\n"
     ]
    }
   ],
   "source": [
    "snowflake_processing.table_operations()"
   ]
  }
 ],
 "metadata": {
  "kernelspec": {
   "display_name": "gambling_com_task_solution",
   "language": "python",
   "name": "python3"
  },
  "language_info": {
   "codemirror_mode": {
    "name": "ipython",
    "version": 3
   },
   "file_extension": ".py",
   "mimetype": "text/x-python",
   "name": "python",
   "nbconvert_exporter": "python",
   "pygments_lexer": "ipython3",
   "version": "3.11.1"
  }
 },
 "nbformat": 4,
 "nbformat_minor": 2
}
